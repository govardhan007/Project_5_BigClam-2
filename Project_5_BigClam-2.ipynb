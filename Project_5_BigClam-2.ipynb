{
  "nbformat": 4,
  "nbformat_minor": 0,
  "metadata": {
    "colab": {
      "name": "Project-5_BigClam.ipynb",
      "provenance": []
    },
    "kernelspec": {
      "name": "python3",
      "display_name": "Python 3"
    },
    "language_info": {
      "name": "python"
    }
  },
  "cells": [
    {
      "cell_type": "code",
      "metadata": {
        "id": "0dw8hN6NypVd"
      },
      "source": [
        "# import all the necessary libraries\n",
        "import os\n",
        "import shutil\n",
        "import sys\n",
        "from operator import add\n",
        "import itertools\n",
        "import numpy as np\n",
        "import networkx as nx\n",
        "import collections\n",
        "import random\n",
        "from sklearn.metrics import recall_score\n",
        "import time as time\n",
        "import matplotlib.pyplot as plt \n",
        "import matplotlib.ticker as ticker\n",
        "import matplotlib as mpl"
      ],
      "execution_count": 46,
      "outputs": []
    },
    {
      "cell_type": "code",
      "metadata": {
        "colab": {
          "base_uri": "https://localhost:8080/"
        },
        "id": "cEi53Vxo-_e4",
        "outputId": "78c76456-dc46-4b18-f711-ce713c9dc1bc"
      },
      "source": [
        "path = \"/content/sample_data/YouTube.edgelist\"\n",
        "\n",
        "G = nx.read_edgelist(path, create_using= nx.Graph())\n",
        "\n",
        "# number of nodes and edges\n",
        "print(\"The total number of nodes in the graph is: \" + str(len(G)))\n",
        "print(\"The total number of edges in the graph is: \" + str(G.number_of_edges()))\n",
        "n = len(G)\n",
        "c = 29"
      ],
      "execution_count": 48,
      "outputs": [
        {
          "output_type": "stream",
          "name": "stdout",
          "text": [
            "The total number of nodes in the graph is: 7675\n",
            "The total number of edges in the graph is: 35622\n"
          ]
        }
      ]
    },
    {
      "cell_type": "code",
      "metadata": {
        "colab": {
          "base_uri": "https://localhost:8080/"
        },
        "id": "Azi3FPez_ARo",
        "outputId": "a5e9ff96-2a90-4979-df3a-b3e4589afad1"
      },
      "source": [
        "def initialize_F_seed(G, n, c, filename):\n",
        "\n",
        "\n",
        "  initial_community_array = []\n",
        "\n",
        "\n",
        "  file1 = open(f'/content/sample_data/{filename}.txt', 'r') \n",
        "  Lines = file1.readlines() \n",
        "    \n",
        "  count = 0\n",
        "  for line in Lines: \n",
        "      initial_community_array.append(np.array([int(i) for i in line.strip().split(\" \")]))\n",
        "      count = count + 1\n",
        "\n",
        "  file1.close()\n",
        "  F = np.zeros((n,c))\n",
        "  counter = 0\n",
        "\n",
        "  # assign Fuc = 1 for given communities\n",
        "  for community in initial_community_array:\n",
        "    for node in community:\n",
        "      F[node,counter] = 1.0\n",
        "    counter += 1\n",
        "\n",
        "  K = np.zeros(c)\n",
        "  start = time.time()\n",
        "\n",
        "  # loop over all nodes, assigning to the community the node's nearest neighbors that are locally minimum.\n",
        "  for i in range(n):\n",
        "    if i % 1000 == 0: # print the node number to see the progress\n",
        "      print(i)\n",
        "    for j in range(c):\n",
        "      S = np.copy(initial_community_array[j])\n",
        "      \n",
        "      neighor_indices = [] \n",
        "      neighor_indices.append(i)\n",
        "      for k in G.neighbors(str(i)):\n",
        "        S = np.append(S,int(k))\n",
        "        neighor_indices.append(int(k))\n",
        "      \n",
        "      SS = set([str(k) for k in S])\n",
        "\n",
        "      # compute the condictance after adding a node and ite neighbors to community c\n",
        "      K[j] = nx.conductance(G, SS)\n",
        "\n",
        "    arg_min = np.argmin(K) # locally minimal community \n",
        "\n",
        "    #assign the node and all its neighbors the locally minimal community\n",
        "    F[neighor_indices,arg_min] = 1.0 \n",
        "\n",
        "  print('time = ', time.time() - start)\n",
        "\n",
        "  # save the matrix F\n",
        "  np.savez(f'/content/sample_data/F_{filename}.npz', F = F)\n",
        "\n",
        "  return F\n",
        "\n",
        "def initialize_F_random(n, c):\n",
        " \n",
        "  F = np.zeros((n,c))\n",
        "\n",
        "  for i in range(n):\n",
        "    r1 = random.randint(1,5)\n",
        "    for j in range(r1):\n",
        "      r2 = random.randint(0,28)\n",
        "      F[i,r2] = 1.0\n",
        "\n",
        "  # save the matrix F\n",
        "  np.savez(f'/content/sample_data/F_random.npz', F = F)\n",
        "\n",
        "  return F\n",
        "\n",
        "filename = '20percent_seed_communities'\n",
        "F_true_seed = initialize_F_seed(G, n, c, filename)\n",
        "\n",
        "filename = 'neighborhood_seeds'\n",
        "F_neighbor_seed = initialize_F_seed(G, n, c, filename)\n",
        "\n",
        "F_random = initialize_F_random(n,c)"
      ],
      "execution_count": 49,
      "outputs": [
        {
          "output_type": "stream",
          "name": "stdout",
          "text": [
            "0\n",
            "1000\n",
            "2000\n",
            "3000\n",
            "4000\n",
            "5000\n",
            "6000\n",
            "7000\n",
            "time =  2077.5019776821136\n",
            "0\n",
            "1000\n",
            "2000\n",
            "3000\n",
            "4000\n",
            "5000\n",
            "6000\n",
            "7000\n",
            "time =  2160.6805460453033\n"
          ]
        }
      ]
    },
    {
      "cell_type": "code",
      "metadata": {
        "id": "148r0s2U_Aav"
      },
      "source": [
        "\n",
        "# loading the saved matrix\n",
        "data = np.load('/content/sample_data/F_20percent_seed_communities.npz')\n",
        "F_true_seed = data['F']\n",
        "data = np.load('/content/sample_data/F_neighborhood_seeds.npz')\n",
        "F_neighbor_seed = data['F']\n",
        "data = np.load('/content/sample_data/F_random.npz')\n",
        "F_random = data['F']"
      ],
      "execution_count": 51,
      "outputs": []
    },
    {
      "cell_type": "code",
      "metadata": {
        "id": "GJaDJ3w2_AeA",
        "colab": {
          "base_uri": "https://localhost:8080/"
        },
        "outputId": "3267b842-e0f9-46b7-f9bc-6e0b1f00cfd5"
      },
      "source": [
        "print('20 percent seed initilization : ', np.sum(F_true_seed))\n",
        "print('Neighbor seed initilization : ', np.sum(F_neighbor_seed))\n",
        "print('Random initilization : ', np.sum(F_random))"
      ],
      "execution_count": 52,
      "outputs": [
        {
          "output_type": "stream",
          "name": "stdout",
          "text": [
            "20 percent seed initilization :  18666.0\n",
            "Neighbor seed initilization :  14861.0\n",
            "Random initilization :  21786.0\n"
          ]
        }
      ]
    },
    {
      "cell_type": "code",
      "metadata": {
        "id": "5GVk0xQz_Ahq"
      },
      "source": [
        "def optimize_matrix(G,F,n,c,n_iters,lr):\n",
        "\n",
        "  update_value = np.zeros(n_iters)\n",
        "  \n",
        "  for k in range(n_iters):\n",
        "    # compute the sum of all nodes\n",
        "    initial_sum = np.sum(F,axis=0)\n",
        "\n",
        "    # iterate for each row of the column F\n",
        "    for i in range(n):\n",
        "      fu = np.copy(F[i,:])\n",
        "      first_term = np.zeros(c)\n",
        "      neighours_sum = np.zeros(c)\n",
        "\n",
        "      # iterate over all neighbors of node u\n",
        "      for j in G.neighbors(str(i)):\n",
        "        int_j = int(j)\n",
        "        fv = np.copy(F[int_j,:])\n",
        "\n",
        "        product = np.sum(fu*fv) \n",
        "\n",
        "        if product == 0:\n",
        "          first_term = first_term + fv*0.0\n",
        "        else:\n",
        "          first_term = first_term + fv*(np.exp(-product)/(1.0 - np.exp(-product)))\n",
        "        neighours_sum = neighours_sum + fv\n",
        "      \n",
        "      second_term = initial_sum - fu - neighours_sum\n",
        "\n",
        "      # gradient computation\n",
        "      gradient = first_term - second_term\n",
        "      fold = np.copy(F[i,:])\n",
        "\n",
        "      # update ith row of F\n",
        "      F[i,:] = F[i,:] + lr*gradient      \n",
        "      F[i,:] = np.where(F[i,:]<0, 0.00001, F[i,:])\n",
        "\n",
        "      # store the maximum value of change in F amongst all nodes\n",
        "      if np.linalg.norm(fold - F[i,:]) > update_value[k]:\n",
        "        update_value[k] = np.linalg.norm(fold - F[i,:])\n",
        "\n",
        "    if k%50 == 0:\n",
        "      print(k, update_value[k])\n",
        "\n",
        "  return F, update_value"
      ],
      "execution_count": 53,
      "outputs": []
    },
    {
      "cell_type": "code",
      "metadata": {
        "id": "br0g7OLt_Ak6",
        "colab": {
          "base_uri": "https://localhost:8080/"
        },
        "outputId": "9f961e30-f9b6-45f8-a461-b155e0e5286e"
      },
      "source": [
        "n_iters = 400\n",
        "lr = 0.0001\n",
        "F_true_seed_optimized, update_value_true_seed = optimize_matrix(G,F_true_seed,n,c,n_iters,lr)"
      ],
      "execution_count": 54,
      "outputs": [
        {
          "output_type": "stream",
          "name": "stdout",
          "text": [
            "0 0.6921014583493202\n",
            "50 0.023160492447236104\n",
            "100 0.015617903361251795\n",
            "150 0.01251555882360773\n",
            "200 0.010703803791800652\n",
            "250 0.009902020402237607\n",
            "300 0.009200120568299927\n",
            "350 0.007932267392996047\n"
          ]
        }
      ]
    },
    {
      "cell_type": "code",
      "metadata": {
        "id": "SMPWiJym_Aoo",
        "colab": {
          "base_uri": "https://localhost:8080/"
        },
        "outputId": "ab706d30-c73d-415f-e816-565677968399"
      },
      "source": [
        "n_iters = 400\n",
        "lr = 0.0001\n",
        "F_neighbor_seed_optimized, update_value_neighbor_seed = optimize_matrix(G,F_neighbor_seed,n,c,n_iters,lr)"
      ],
      "execution_count": 55,
      "outputs": [
        {
          "output_type": "stream",
          "name": "stdout",
          "text": [
            "0 0.8313079312206066\n",
            "50 47.382792887333366\n",
            "100 94.43799554803009\n",
            "150 94.68686630405186\n",
            "200 16.763779291458295\n",
            "250 32.85882954037308\n",
            "300 30.319806770592425\n",
            "350 22.242097688532095\n"
          ]
        }
      ]
    },
    {
      "cell_type": "code",
      "metadata": {
        "id": "XuWR4MpM_AsD",
        "colab": {
          "base_uri": "https://localhost:8080/"
        },
        "outputId": "52f5c157-c920-41bc-afe0-0ae5ac15169d"
      },
      "source": [
        "n_iters = 400\n",
        "lr = 0.0001\n",
        "F_random_optimized, update_value_random = optimize_matrix(G,F_random,n,c,n_iters,lr)"
      ],
      "execution_count": 56,
      "outputs": [
        {
          "output_type": "stream",
          "name": "stdout",
          "text": [
            "0 551600.2946932369\n",
            "50 425.3927555295337\n",
            "100 990.5714481933251\n",
            "150 510.886544625673\n",
            "200 602.9652829640836\n",
            "250 295.39606555481765\n",
            "300 431.7625541719832\n",
            "350 468.2383551719252\n"
          ]
        }
      ]
    },
    {
      "cell_type": "code",
      "metadata": {
        "id": "rBG1n1C1_Auv",
        "colab": {
          "base_uri": "https://localhost:8080/",
          "height": 295
        },
        "outputId": "928c8c0b-9cb8-48b1-e2dd-1bfa35726b1a"
      },
      "source": [
        "fig, ax = plt.subplots(1,3,figsize=(14,4))\n",
        "axs = ax.flat\n",
        "axs[0].semilogy(update_value_true_seed, 'bo-', lw=2, ms=8, mew=2, fillstyle='none',  label='Iteration update')\n",
        "axs[1].semilogy(update_value_neighbor_seed, 'ro-', lw=2, ms=8, mew=2, fillstyle='none',  label='Iteration update')\n",
        "axs[2].semilogy(update_value_random, 'go-', lw=2, ms=8, mew=2, fillstyle='none',  label='Iteration update')\n",
        "for i in range(3):\n",
        "  axs[i].grid()\n",
        "  axs[i].set_xlabel('N')\n",
        "  if i == 0:\n",
        "    axs[i].set_ylabel('Iteration update')\n",
        "\n",
        "axs[0].set_title('20 % seed community')\n",
        "axs[1].set_title('Neighborhood seed community')\n",
        "axs[2].set_title('Random community')\n",
        "fig.tight_layout()\n",
        "plt.show()"
      ],
      "execution_count": 61,
      "outputs": [
        {
          "output_type": "display_data",
          "data": {
            "image/png": "[encoded data removed]",
            "text/plain": [
              "<Figure size 1008x288 with 3 Axes>"
            ]
          },
          "metadata": {
            "needs_background": "light"
          }
        }
      ]
    },
    {
      "cell_type": "code",
      "metadata": {
        "id": "D3-u-0ZU_AxQ",
        "colab": {
          "base_uri": "https://localhost:8080/"
        },
        "outputId": "df39af66-8e45-4d33-c60b-7bfd5523b1e1"
      },
      "source": [
        "epsilon = 1.0e-8\n",
        "delta = np.sqrt(-np.log(1.0 - epsilon))\n",
        "print(delta)"
      ],
      "execution_count": 62,
      "outputs": [
        {
          "output_type": "stream",
          "name": "stdout",
          "text": [
            "0.00010000000050123797\n"
          ]
        }
      ]
    },
    {
      "cell_type": "code",
      "metadata": {
        "id": "bRzDqOAU_Azu"
      },
      "source": [
        "ground_truth_community_array = []\n",
        "file1 = open('/content/sample_data/groundtruth_communities.txt', 'r') \n",
        "Lines = file1.readlines() \n",
        "  \n",
        "count = 0\n",
        "for line in Lines: \n",
        "    ground_truth_community_array.append(np.array([int(i) for i in line.strip().split(\" \")]))\n",
        "    count = count + 1\n",
        "\n",
        "file1.close()\n",
        "\n",
        "y_true = np.zeros((n,c))\n",
        "counter = 0\n",
        "for community in ground_truth_community_array:\n",
        "  for node in community:\n",
        "    y_true[node, counter] = 1.0\n",
        "  counter = counter + 1"
      ],
      "execution_count": 63,
      "outputs": []
    },
    {
      "cell_type": "code",
      "metadata": {
        "id": "VbR53syz_A28"
      },
      "source": [
        "y_pred_true_seed = np.zeros((n,c))\n",
        "y_pred_neighbor_seed = np.zeros((n,c))\n",
        "y_pred_random = np.zeros((n,c))\n",
        "\n",
        "for i in range(n):\n",
        "  pred_community = np.where(F_true_seed_optimized[i,:] > delta)\n",
        "  for j in pred_community[0]:\n",
        "    y_pred_true_seed[i,j] = 1.0\n",
        "\n",
        "  pred_community = np.where(F_neighbor_seed[i,:] > delta)\n",
        "  for j in pred_community[0]:\n",
        "    y_pred_neighbor_seed[i,j] = 1.0\n",
        "  \n",
        "  pred_community = np.where(F_random[i,:] > delta)\n",
        "  for j in pred_community[0]:\n",
        "    y_pred_random[i,j] = 1.0"
      ],
      "execution_count": 64,
      "outputs": []
    },
    {
      "cell_type": "code",
      "metadata": {
        "id": "kPklpXWjJzmh"
      },
      "source": [
        "# communities predicted for 20% initilization\n",
        "my_list = []\n",
        "for j in range(c):\n",
        "  item = []\n",
        "  for i in range(n):\n",
        "    if y_pred_true_seed[i,j] == 1.0:\n",
        "      item.append(i)\n",
        "  my_list.append(item)\n",
        "\n",
        "\n",
        "with open('/content/sample_data/predicted_community_20percent_seed.txt', 'w') as f:\n",
        "    for item in my_list:\n",
        "      s = \", \".join(map(str, item))\n",
        "      f.write(s +\"\\n\")\n",
        "\n",
        "f.close()"
      ],
      "execution_count": 65,
      "outputs": []
    },
    {
      "cell_type": "code",
      "metadata": {
        "id": "OO4P9tweJzuy"
      },
      "source": [
        "# write predicted communities for neighborhood initilization\n",
        "my_list = []\n",
        "for j in range(c):\n",
        "  item = []\n",
        "  for i in range(n):\n",
        "    if y_pred_neighbor_seed[i,j] == 1.0:\n",
        "      item.append(i)\n",
        "  my_list.append(item)\n",
        "\n",
        "# change this path\n",
        "with open('/content/sample_data/predicted_community_neighbor_seed.txt', 'w') as f:\n",
        "    for item in my_list:\n",
        "      s = \", \".join(map(str, item))\n",
        "      f.write(s +\"\\n\")\n",
        "\n",
        "f.close()"
      ],
      "execution_count": 66,
      "outputs": []
    },
    {
      "cell_type": "code",
      "metadata": {
        "id": "pAawQMDJJzyi"
      },
      "source": [
        "#communities which are predicted for random initilization\n",
        "my_list = []\n",
        "for j in range(c):\n",
        "  item = []\n",
        "  for i in range(n):\n",
        "    if y_pred_random[i,j] == 1.0:\n",
        "      item.append(i)\n",
        "  my_list.append(item)\n",
        "\n",
        "\n",
        "with open('/content/sample_data/predicted_community_random.txt', 'w') as f:\n",
        "    for item in my_list:\n",
        "      s = \", \".join(map(str, item))\n",
        "      f.write(s +\"\\n\")\n",
        "\n",
        "f.close()"
      ],
      "execution_count": 67,
      "outputs": []
    },
    {
      "cell_type": "code",
      "metadata": {
        "id": "z-LXv1WT_A52"
      },
      "source": [
        "recall_true_seed = 0.0\n",
        "\n",
        "ground_set = set([i for i in range(c)])\n",
        "\n",
        "for i in range(c):\n",
        "  rc_list = []\n",
        "  for j in ground_set:\n",
        "    rc = recall_score(y_true[:,j], y_pred_true_seed[:,i])\n",
        "    rc_list.append(rc)\n",
        "    arg_max = np.argmax(rc_list)\n",
        "  recall_true_seed = recall_true_seed + np.max(rc_list)\n",
        "\n",
        "  ground_set = ground_set.difference(set([list(ground_set)[arg_max]]))\n",
        "\n",
        "recall_true_seed = recall_true_seed/c"
      ],
      "execution_count": 68,
      "outputs": []
    },
    {
      "cell_type": "code",
      "metadata": {
        "id": "Qwnp6bEg_BDi"
      },
      "source": [
        "recall_neighbor_seed = 0.0\n",
        "ground_set = set([i for i in range(c)])\n",
        "\n",
        "for i in range(c):\n",
        "  rc_list = []\n",
        "  for j in ground_set:\n",
        "    rc = recall_score(y_true[:,j], y_pred_neighbor_seed[:,i])\n",
        "    rc_list.append(rc)\n",
        "    arg_max = np.argmax(rc_list)\n",
        "  recall_neighbor_seed = recall_neighbor_seed + np.max(rc_list)\n",
        "\n",
        "  ground_set = ground_set.difference(set([list(ground_set)[arg_max]]))\n",
        "\n",
        "recall_neighbor_seed = recall_neighbor_seed/c"
      ],
      "execution_count": 69,
      "outputs": []
    },
    {
      "cell_type": "code",
      "metadata": {
        "id": "neSPjuRnKhwa"
      },
      "source": [
        "recall_random = 0.0\n",
        "ground_set = set([i for i in range(c)])\n",
        "\n",
        "for i in range(c):\n",
        "  rc_list = []\n",
        "  for j in ground_set:\n",
        "    rc = recall_score(y_true[:,j], y_pred_random[:,i])\n",
        "    rc_list.append(rc)\n",
        "    arg_max = np.argmax(rc_list)\n",
        "  recall_random = recall_random + np.max(rc_list)\n",
        "\n",
        "  ground_set = ground_set.difference(set([list(ground_set)[arg_max]]))\n",
        "\n",
        "recall_random = recall_random/c"
      ],
      "execution_count": 70,
      "outputs": []
    },
    {
      "cell_type": "code",
      "metadata": {
        "colab": {
          "base_uri": "https://localhost:8080/"
        },
        "id": "qR6hIR76Kh0Q",
        "outputId": "88c72099-9c28-420a-943c-32704549959a"
      },
      "source": [
        "print('20 % seed community: ', np.round(recall_true_seed, 4))\n",
        "print('Neighborhood seed community: ', np.round(recall_neighbor_seed, 4))\n",
        "print('Random community : ', np.round(recall_random, 4))"
      ],
      "execution_count": 71,
      "outputs": [
        {
          "output_type": "stream",
          "name": "stdout",
          "text": [
            "20 % seed community:  0.8593\n",
            "Neighborhood seed community:  0.5262\n",
            "Random community :  0.167\n"
          ]
        }
      ]
    },
    {
      "cell_type": "markdown",
      "metadata": {
        "id": "A1AKvNEyeWh_"
      },
      "source": [
        "When 20 percent of the nodes from the ground truth are used to initiate F, the recall is roughly 0.86. \n",
        "\n",
        "The recall of random initilization is roughly 0.19."
      ]
    },
    {
      "cell_type": "code",
      "metadata": {
        "colab": {
          "base_uri": "https://localhost:8080/",
          "height": 441
        },
        "id": "dMukmZPyKh5M",
        "outputId": "557880b4-3d4a-4550-b3db-de49c40a674f"
      },
      "source": [
        "data = {'20% True seed': recall_true_seed, 'Neighbor seed': recall_neighbor_seed, 'Random': recall_random}\n",
        "names = list(data.keys())\n",
        "values = list(data.values())\n",
        "\n",
        "x = np.arange(len(names))  # the label locations\n",
        "width = 0.35  # the width of the bars\n",
        "\n",
        "fig, axs = plt.subplots(1, 1, figsize=(8, 6), sharey=True)\n",
        "axs.bar(names, values, width, color='k', alpha=0.8)\n",
        "plt.title('Recall for diferent initilization methods')\n",
        "\n",
        "fig.tight_layout()\n",
        "plt.show()"
      ],
      "execution_count": 72,
      "outputs": [
        {
          "output_type": "display_data",
          "data": {
            "image/png": "[encoded data removed]",
            "text/plain": [
              "<Figure size 576x432 with 1 Axes>"
            ]
          },
          "metadata": {
            "needs_background": "light"
          }
        }
      ]
    },
    {
      "cell_type": "code",
      "metadata": {
        "colab": {
          "base_uri": "https://localhost:8080/"
        },
        "id": "wQyeZ-EhKiAQ",
        "outputId": "2e836db6-69bd-4906-d473-2f84d24c1232"
      },
      "source": [
        "from numpy import load\n",
        "data = load('/content/sample_data/F_random.npz')\n",
        "lst = data.files\n",
        "for item in lst:\n",
        "    print(item)\n",
        "    print(data[item])"
      ],
      "execution_count": 73,
      "outputs": [
        {
          "output_type": "stream",
          "name": "stdout",
          "text": [
            "F\n",
            "[[0. 0. 0. ... 0. 0. 0.]\n",
            " [0. 0. 0. ... 0. 0. 0.]\n",
            " [0. 0. 1. ... 0. 1. 0.]\n",
            " ...\n",
            " [0. 0. 0. ... 1. 0. 1.]\n",
            " [0. 0. 0. ... 0. 0. 0.]\n",
            " [0. 0. 0. ... 0. 0. 1.]]\n"
          ]
        }
      ]
    },
    {
      "cell_type": "code",
      "metadata": {
        "colab": {
          "base_uri": "https://localhost:8080/"
        },
        "id": "fJyauLsVkr3y",
        "outputId": "fe5a0039-837b-44b6-e09a-ddbf6fed0500"
      },
      "source": [
        "from numpy import load\n",
        "data = load('/content/sample_data/F_neighborhood_seeds.npz')\n",
        "lst = data.files\n",
        "for item in lst:\n",
        "    print(item)\n",
        "    print(data[item])"
      ],
      "execution_count": 74,
      "outputs": [
        {
          "output_type": "stream",
          "name": "stdout",
          "text": [
            "F\n",
            "[[0. 0. 0. ... 0. 0. 0.]\n",
            " [0. 0. 0. ... 0. 0. 0.]\n",
            " [0. 0. 0. ... 0. 0. 0.]\n",
            " ...\n",
            " [0. 0. 0. ... 0. 0. 0.]\n",
            " [0. 0. 0. ... 0. 0. 0.]\n",
            " [0. 0. 0. ... 0. 0. 0.]]\n"
          ]
        }
      ]
    },
    {
      "cell_type": "code",
      "metadata": {
        "colab": {
          "base_uri": "https://localhost:8080/"
        },
        "id": "KrSdlCEocRHH",
        "outputId": "db2587c8-81f1-475b-b35b-c918aae7d060"
      },
      "source": [
        "from numpy import load\n",
        "data = load('/content/sample_data/F_20percent_seed_communities.npz')\n",
        "lst = data.files\n",
        "for item in lst:\n",
        "    print(item)\n",
        "    print(data[item])"
      ],
      "execution_count": 75,
      "outputs": [
        {
          "output_type": "stream",
          "name": "stdout",
          "text": [
            "F\n",
            "[[1. 1. 1. ... 0. 0. 0.]\n",
            " [0. 0. 0. ... 0. 0. 0.]\n",
            " [1. 1. 1. ... 0. 0. 0.]\n",
            " ...\n",
            " [0. 0. 1. ... 0. 0. 0.]\n",
            " [1. 0. 1. ... 0. 0. 0.]\n",
            " [1. 0. 1. ... 0. 0. 0.]]\n"
          ]
        }
      ]
    },
    {
      "cell_type": "code",
      "metadata": {
        "id": "GcgixuWtcngI"
      },
      "source": [
        ""
      ],
      "execution_count": null,
      "outputs": []
    }
  ]
}